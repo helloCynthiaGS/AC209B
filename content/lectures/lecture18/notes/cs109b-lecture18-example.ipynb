{
 "cells": [
  {
   "cell_type": "markdown",
   "metadata": {
    "collapsed": true
   },
   "source": [
    "\n",
    "# <img style=\"float: left; padding-right: 10px; width: 45px\" src=\"https://raw.githubusercontent.com/Harvard-IACS/2018-CS109A/master/content/styles/iacs.png\"> CS109B Data Science 2: Advanced Topics in Data Science \n",
    "\n",
    "## Lecture 18: Autoencoders Example \n",
    "\n",
    "**Harvard University**<br/>\n",
    "**Spring 2019**<br/>\n",
    "**Instructors:** Pavlos Protopapas and Mark Glickman<br/>\n",
    "\n",
    "<hr style=\"height:2pt\">\n",
    "\n",
    "\n",
    "Code and ideas taken/borrowed/adapted from \n",
    "Deep Learning From Basics to Practice, by Andrew Glassner, https://dlbasics.com, http://glassner.com, Python utilities for saving and loading files, mostly images and Keras model weights\n"
   ]
  },
  {
   "cell_type": "code",
   "execution_count": 1,
   "metadata": {},
   "outputs": [
    {
     "data": {
      "text/html": [
       "<style>\n",
       "blockquote { background: #AEDE94; }\n",
       "h1 { \n",
       "    padding-top: 25px;\n",
       "    padding-bottom: 25px;\n",
       "    text-align: left; \n",
       "    padding-left: 10px;\n",
       "    background-color: #DDDDDD; \n",
       "    color: black;\n",
       "}\n",
       "h2 { \n",
       "    padding-top: 10px;\n",
       "    padding-bottom: 10px;\n",
       "    text-align: left; \n",
       "    padding-left: 5px;\n",
       "    background-color: #EEEEEE; \n",
       "    color: black;\n",
       "}\n",
       "\n",
       "div.exercise {\n",
       "\tbackground-color: #ffcccc;\n",
       "\tborder-color: #E9967A; \t\n",
       "\tborder-left: 5px solid #800080; \n",
       "\tpadding: 0.5em;\n",
       "}\n",
       "\n",
       "span.sub-q {\n",
       "\tfont-weight: bold;\n",
       "}\n",
       "div.theme {\n",
       "\tbackground-color: #DDDDDD;\n",
       "\tborder-color: #E9967A; \t\n",
       "\tborder-left: 5px solid #800080; \n",
       "\tpadding: 0.5em;\n",
       "\tfont-size: 18pt;\n",
       "}\n",
       "div.gc { \n",
       "\tbackground-color: #AEDE94;\n",
       "\tborder-color: #E9967A; \t \n",
       "\tborder-left: 5px solid #800080; \n",
       "\tpadding: 0.5em;\n",
       "\tfont-size: 12pt;\n",
       "}\n",
       "p.q1 { \n",
       "    padding-top: 5px;\n",
       "    padding-bottom: 5px;\n",
       "    text-align: left; \n",
       "    padding-left: 5px;\n",
       "    background-color: #EEEEEE; \n",
       "    color: black;\n",
       "}\n",
       "header {\n",
       "   padding-top: 35px;\n",
       "    padding-bottom: 35px;\n",
       "    text-align: left; \n",
       "    padding-left: 10px;\n",
       "    background-color: #DDDDDD; \n",
       "    color: black;\n",
       "}\n",
       "</style>\n",
       "\n"
      ],
      "text/plain": [
       "<IPython.core.display.HTML object>"
      ]
     },
     "execution_count": 1,
     "metadata": {},
     "output_type": "execute_result"
    }
   ],
   "source": [
    "#RUN THIS CELL \n",
    "import requests\n",
    "from IPython.core.display import HTML\n",
    "styles = requests.get(\"https://raw.githubusercontent.com/Harvard-IACS/2018-CS109A/master/content/styles/cs109.css\").text\n",
    "HTML(styles)"
   ]
  },
  {
   "cell_type": "code",
   "execution_count": 2,
   "metadata": {},
   "outputs": [
    {
     "name": "stderr",
     "output_type": "stream",
     "text": [
      "Using TensorFlow backend.\n",
      "/Users/pavlos/anaconda3/lib/python3.6/importlib/_bootstrap.py:219: RuntimeWarning: compiletime version 3.5 of module 'tensorflow.python.framework.fast_tensor_util' does not match runtime version 3.6\n",
      "  return f(*args, **kwds)\n"
     ]
    }
   ],
   "source": [
    "from keras.datasets import mnist\n",
    "from keras.models import Sequential, Model\n",
    "from keras.layers import Dense\n",
    "import numpy as np\n",
    "#import h5py\n",
    "#from pathlib import Path\n",
    "import matplotlib.pyplot as plt\n",
    "\n",
    "from keras import backend as keras_backend\n",
    "keras_backend.set_image_data_format('channels_last')"
   ]
  },
  {
   "cell_type": "code",
   "execution_count": 3,
   "metadata": {},
   "outputs": [],
   "source": [
    "# I will be saving everything so I can re-use them \n",
    "save_files = True\n",
    "\n",
    "import os, sys, inspect\n",
    "current_dir = os.path.dirname(os.path.abspath(inspect.getfile(inspect.currentframe())))\n",
    "sys.path.insert(0, os.path.dirname(current_dir)) # path to parent dir\n",
    "from DLBasics_Utilities import File_Helper\n",
    "file_helper = File_Helper(save_files)"
   ]
  },
  {
   "cell_type": "code",
   "execution_count": 4,
   "metadata": {},
   "outputs": [
    {
     "name": "stdout",
     "output_type": "stream",
     "text": [
      "X_train.shape =  (60000, 784)  X_test.shape =  (10000, 784)\n"
     ]
    }
   ],
   "source": [
    "random_seed = 52\n",
    "np.random.seed(random_seed)\n",
    "\n",
    "# Read MNIST data. Of course we will not be using y_train and y_test\n",
    "(X_train, y_train), (X_test, y_test) = mnist.load_data()\n",
    "\n",
    "# Full size of the image 28x28 \n",
    "N_pixels = X_train.shape[1]*X_train.shape[2]\n",
    "\n",
    "# Convert to floats\n",
    "X_train = keras_backend.cast_to_floatx(X_train)\n",
    "X_test = keras_backend.cast_to_floatx(X_test)\n",
    "\n",
    "# Normalize the range from [0,255] to [0,1]\n",
    "X_train /= 255.\n",
    "X_test /= 255.\n",
    "\n",
    "# Reshape the data into a grid with one row per sample, each row 784 (28*28) pixels\n",
    "X_train = X_train.reshape((len(X_train), N_pixels))\n",
    "X_test = X_test.reshape((len(X_test), N_pixels))\n",
    "\n",
    "print(\"X_train.shape = \",X_train.shape, \" X_test.shape = \",X_test.shape)"
   ]
  },
  {
   "cell_type": "code",
   "execution_count": 5,
   "metadata": {},
   "outputs": [],
   "source": [
    "def draw_predictions_set(predictions, filename=None):\n",
    "    plt.figure(figsize=(8, 4))\n",
    "    for i in range(5):\n",
    "        plt.subplot(2, 5, i+1)\n",
    "        plt.imshow(X_test[i].reshape(28, 28), vmin=0, vmax=1, cmap=\"gray\")\n",
    "        ax = plt.gca()\n",
    "        ax.get_xaxis().set_visible(False)\n",
    "        ax.get_yaxis().set_visible(False)\n",
    "        plt.subplot(2, 5, i+6)\n",
    "        plt.imshow(predictions[i].reshape(28, 28), vmin=0, vmax=1, cmap=\"gray\")\n",
    "        ax = plt.gca()\n",
    "        ax.get_xaxis().set_visible(False)\n",
    "        ax.get_yaxis().set_visible(False)\n",
    "    plt.tight_layout()\n",
    "    file_helper.save_figure(filename+'-predictions')\n",
    "    plt.show()"
   ]
  },
  {
   "cell_type": "code",
   "execution_count": 28,
   "metadata": {},
   "outputs": [],
   "source": [
    "# Build and train our first autoencoder\n",
    "num_latent_vars = 20\n",
    "\n",
    "modelAE1 = Sequential()\n",
    "modelAE1.add(Dense(num_latent_vars, input_dim=N_pixels, activation='relu'))\n",
    "modelAE1.add(Dense(N_pixels, activation='linear'))\n",
    "modelAE1.compile(optimizer='adadelta', loss='mse')\n",
    "\n",
    "\n",
    "weights_filename = \"modelAE1-weights\"\n",
    "np.random.seed(52)\n",
    "if not file_helper.load_model_weights(modelAE1, weights_filename):\n",
    "    modelAE1.fit(X_train, X_train,\n",
    "                   epochs=20, batch_size=128, shuffle=True,\n",
    "                   verbose=2,\n",
    "                   validation_data=(X_test, X_test))\n",
    "    file_helper.save_model_weights(modelAE1, weights_filename)"
   ]
  },
  {
   "cell_type": "code",
   "execution_count": 29,
   "metadata": {},
   "outputs": [
    {
     "data": {
      "image/png": "[encoded data removed]",
      "text/plain": [
       "<matplotlib.figure.Figure at 0x11de04630>"
      ]
     },
     "metadata": {},
     "output_type": "display_data"
    }
   ],
   "source": [
    "predictions1 = modelAE1.predict(X_test)\n",
    "draw_predictions_set(predictions1, 'FCC1')"
   ]
  },
  {
   "cell_type": "code",
   "execution_count": 30,
   "metadata": {},
   "outputs": [],
   "source": [
    "# Build and train our first autoencoder\n",
    "num_latent_vars = 20\n",
    "\n",
    "modelAE1_s = Sequential()\n",
    "modelAE1_s.add(Dense(num_latent_vars, input_dim=N_pixels, activation='relu'))\n",
    "modelAE1_s.add(Dense(N_pixels, activation='sigmoid'))\n",
    "modelAE1_s.compile(optimizer='adadelta', loss='binary_crossentropy')\n",
    "\n",
    "\n",
    "weights_filename = \"modelAE1-weights-sigmoid\"\n",
    "np.random.seed(52)\n",
    "if not file_helper.load_model_weights(modelAE1_s, weights_filename):\n",
    "    modelAE1_s.fit(X_train, X_train,\n",
    "                   epochs=20, batch_size=128, shuffle=True,\n",
    "                   verbose=2,\n",
    "                   validation_data=(X_test, X_test))\n",
    "    file_helper.save_model_weights(modelAE1_s, weights_filename)"
   ]
  },
  {
   "cell_type": "code",
   "execution_count": 9,
   "metadata": {},
   "outputs": [
    {
     "data": {
      "image/png": "[encoded data removed]",
      "text/plain": [
       "<matplotlib.figure.Figure at 0x13058b748>"
      ]
     },
     "metadata": {},
     "output_type": "display_data"
    }
   ],
   "source": [
    "predictions1 = modelAE1_s.predict(X_test)\n",
    "draw_predictions_set(predictions1, 'FCC1-s')"
   ]
  },
  {
   "cell_type": "code",
   "execution_count": 31,
   "metadata": {},
   "outputs": [
    {
     "data": {
      "image/png": "[encoded data removed]",
      "text/plain": [
       "<matplotlib.figure.Figure at 0x133eb1d68>"
      ]
     },
     "metadata": {},
     "output_type": "display_data"
    }
   ],
   "source": [
    "from PIL import Image\n",
    "\n",
    "filepath = file_helper.get_input_file_path(\"pavlos-gray-28-28.png\")\n",
    "im = Image.open(filepath) \n",
    "pix = im.load()\n",
    "pavlos = np.zeros((1,784))\n",
    "for y in range(28):\n",
    "    for x in range(28):\n",
    "        pavlos[0,(y*28)+x] = pix[x,y][0]/255.\n",
    "        \n",
    "predicted_pavlos = modelAE1_s.predict(pavlos)\n",
    "\n",
    "plt.subplot(1, 2, 1)\n",
    "plt.imshow(np.reshape(pavlos, (28, 28)), vmin=0, vmax=1, cmap=\"gray\")\n",
    "ax = plt.gca()\n",
    "ax.get_xaxis().set_visible(False)\n",
    "ax.get_yaxis().set_visible(False)\n",
    "plt.subplot(1, 2, 2)\n",
    "plt.imshow(np.reshape(predicted_pavlos, (28, 28)), vmin=0, vmax=1, cmap=\"gray\")\n",
    "ax = plt.gca()\n",
    "ax.get_xaxis().set_visible(False)\n",
    "ax.get_yaxis().set_visible(False)\n",
    "plt.tight_layout()\n",
    "file_helper.save_figure('Model-FCC-pavlos-pair')\n",
    "plt.show()"
   ]
  },
  {
   "cell_type": "code",
   "execution_count": 33,
   "metadata": {},
   "outputs": [],
   "source": [
    "# rebuild model with the Functional API so we can play with the decoder alone\n",
    "from keras.layers import Input\n",
    "\n",
    "num_latent_vars = 20\n",
    "\n",
    "model_encoder_input = Input(shape=(784,))\n",
    "model_encoder_512 = Dense(512, activation='relu')\n",
    "model_encoder_256 = Dense(256, activation='relu')\n",
    "model_encoder_latent = Dense(num_latent_vars, activation='relu')\n",
    "\n",
    "model_decoder_256 = Dense(256, activation='relu')\n",
    "model_decoder_512 = Dense(512, activation='relu')\n",
    "model_decoder_out = Dense(784, activation='sigmoid')\n",
    "\n",
    "model_encoder_step_1 = model_encoder_512(model_encoder_input)\n",
    "model_encoder_step_2 = model_encoder_256(model_encoder_step_1)\n",
    "model_encoder_output = model_encoder_latent(model_encoder_step_2)\n",
    "\n",
    "model_decoder_step_1 = model_decoder_256(model_encoder_output)\n",
    "model_decoder_step_2 = model_decoder_512(model_decoder_step_1)\n",
    "model_decoder_output = model_decoder_out(model_decoder_step_2)\n",
    "\n",
    "model_AE_F = Model(model_encoder_input, model_decoder_output)\n",
    "\n",
    "model_encoder_only_model = Model(model_encoder_input, model_encoder_output)\n",
    "\n",
    "model_decoder_only_input = Input(shape=(num_latent_vars,))\n",
    "model_decoder_only_step_1 = model_decoder_256(model_decoder_only_input)\n",
    "model_decoder_only_step_2 = model_decoder_512(model_decoder_only_step_1)\n",
    "model_decoder_only_output = model_decoder_out(model_decoder_only_step_2)\n",
    "model_decoder_only_model = Model(model_decoder_only_input, model_decoder_only_output)"
   ]
  },
  {
   "cell_type": "code",
   "execution_count": 36,
   "metadata": {},
   "outputs": [
    {
     "name": "stdout",
     "output_type": "stream",
     "text": [
      "Train on 60000 samples, validate on 10000 samples\n",
      "Epoch 1/20\n",
      " - 15s - loss: 0.1196 - val_loss: 0.1163\n",
      "Epoch 2/20\n",
      " - 17s - loss: 0.1169 - val_loss: 0.1133\n",
      "Epoch 3/20\n",
      " - 15s - loss: 0.1146 - val_loss: 0.1117\n",
      "Epoch 4/20\n",
      " - 17s - loss: 0.1125 - val_loss: 0.1092\n",
      "Epoch 5/20\n",
      " - 15s - loss: 0.1108 - val_loss: 0.1116\n",
      "Epoch 6/20\n",
      " - 15s - loss: 0.1094 - val_loss: 0.1069\n",
      "Epoch 7/20\n",
      " - 16s - loss: 0.1080 - val_loss: 0.1068\n",
      "Epoch 8/20\n",
      " - 16s - loss: 0.1069 - val_loss: 0.1043\n",
      "Epoch 9/20\n",
      " - 18s - loss: 0.1058 - val_loss: 0.1044\n",
      "Epoch 10/20\n",
      " - 17s - loss: 0.1049 - val_loss: 0.1040\n",
      "Epoch 11/20\n",
      " - 15s - loss: 0.1040 - val_loss: 0.1036\n",
      "Epoch 12/20\n",
      " - 17s - loss: 0.1032 - val_loss: 0.1029\n",
      "Epoch 13/20\n",
      " - 17s - loss: 0.1025 - val_loss: 0.1017\n",
      "Epoch 14/20\n",
      " - 16s - loss: 0.1018 - val_loss: 0.1007\n",
      "Epoch 15/20\n",
      " - 16s - loss: 0.1012 - val_loss: 0.1001\n",
      "Epoch 16/20\n",
      " - 16s - loss: 0.1005 - val_loss: 0.0996\n",
      "Epoch 17/20\n",
      " - 19s - loss: 0.1000 - val_loss: 0.0983\n",
      "Epoch 18/20\n",
      " - 17s - loss: 0.0995 - val_loss: 0.0981\n",
      "Epoch 19/20\n",
      " - 17s - loss: 0.0990 - val_loss: 0.0982\n",
      "Epoch 20/20\n",
      " - 16s - loss: 0.0985 - val_loss: 0.0978\n"
     ]
    }
   ],
   "source": [
    "model_AE_F.compile(optimizer='adadelta', loss='binary_crossentropy')\n",
    "\n",
    "weights_filename = \"model-AE-F-weights\"\n",
    "np.random.seed(52)\n",
    "if not file_helper.load_model_weights(model_AE_F, weights_filename):\n",
    "    model_AE_F.fit(X_train, X_train,\n",
    "               epochs=20, batch_size=128, shuffle=True,\n",
    "               verbose=2,\n",
    "               validation_data=(X_test, X_test))\n",
    "    file_helper.save_model_weights(model_AE_F, weights_filename)"
   ]
  },
  {
   "cell_type": "code",
   "execution_count": 37,
   "metadata": {},
   "outputs": [
    {
     "data": {
      "image/png": "[encoded data removed]",
      "text/plain": [
       "<matplotlib.figure.Figure at 0x11dbf19b0>"
      ]
     },
     "metadata": {},
     "output_type": "display_data"
    }
   ],
   "source": [
    "# show the input data, its latent values, and the corresponding predicted images\n",
    "np.random.seed(random_seed)\n",
    "encoder_predictions = model_encoder_only_model.predict(X_test)\n",
    "\n",
    "plt.figure(figsize=(8, 5))\n",
    "latent_min = np.min(encoder_predictions[0:5])\n",
    "latent_max = np.max(encoder_predictions[0:5])\n",
    "for i in range(5):\n",
    "    plt.subplot(3, 5, i+1)\n",
    "    plt.imshow(X_test[i].reshape(28, 28), vmin=0, vmax=1, cmap=\"gray\")\n",
    "    ax = plt.gca()\n",
    "    ax.get_xaxis().set_visible(False)\n",
    "    ax.get_yaxis().set_visible(False)\n",
    "    \n",
    "    plt.subplot(3, 5, i+6)\n",
    "    plt.bar(np.arange(len(encoder_predictions[i])), encoder_predictions[i])\n",
    "    plt.xticks([], [])\n",
    "    plt.ylim(latent_min, latent_max)\n",
    "    \n",
    "    plt.subplot(3, 5, i+11)\n",
    "    decoder_model_input = np.resize(encoder_predictions[i], (1, len(encoder_predictions[i])))\n",
    "    decoder_prediction = model_decoder_only_model.predict(decoder_model_input)\n",
    "    plt.imshow(decoder_prediction.reshape(28, 28), vmin=0, vmax=1, cmap=\"gray\")\n",
    "    ax = plt.gca()\n",
    "    ax.get_xaxis().set_visible(False)\n",
    "    ax.get_yaxis().set_visible(False)\n",
    "plt.tight_layout()\n",
    "file_helper.save_figure(\"model-F-latents-and-output\")\n",
    "plt.show()"
   ]
  },
  {
   "cell_type": "code",
   "execution_count": 38,
   "metadata": {},
   "outputs": [],
   "source": [
    "# show the latent values and the corresponding predicted images\n",
    "# this makes big vertical spaces between the \n",
    "def show_latents_and_predictions(predictions, filename=None):\n",
    "    plt.figure(figsize=(8, 4))\n",
    "    latent_min = np.min(predictions[0:5])\n",
    "    latent_max = np.max(predictions[0:5])\n",
    "    for i in range(5):\n",
    "        plt.subplot(2, 5, i+1)\n",
    "        plt.bar(np.arange(len(predictions[i])), predictions[i])\n",
    "        plt.xticks([], [])\n",
    "        plt.ylim(latent_min, latent_max)\n",
    "\n",
    "        plt.subplot(2, 5, i+6)\n",
    "        decoder_model_input = np.resize(predictions[i], (1, len(predictions[i])))\n",
    "        decoder_prediction = model_decoder_only_model.predict(decoder_model_input)\n",
    "        plt.imshow(decoder_prediction.reshape(28, 28), vmin=0, vmax=1, cmap=\"gray\")\n",
    "        ax = plt.gca()\n",
    "        ax.get_xaxis().set_visible(False)\n",
    "        ax.get_yaxis().set_visible(False)\n",
    "    plt.tight_layout()\n",
    "    file_helper.save_figure(filename)\n",
    "    plt.show()"
   ]
  },
  {
   "cell_type": "code",
   "execution_count": 39,
   "metadata": {},
   "outputs": [
    {
     "data": {
      "image/png": "[encoded data removed]",
      "text/plain": [
       "<matplotlib.figure.Figure at 0x12a5f5c88>"
      ]
     },
     "metadata": {},
     "output_type": "display_data"
    }
   ],
   "source": [
    "# add [-noise to all values\n",
    "encoder_predictions = np.array(model_encoder_only_model.predict(X_test))\n",
    "np.random.seed(random_seed)\n",
    "noise = 10\n",
    "for i in range(encoder_predictions.shape[0]):\n",
    "    for j in range(len(encoder_predictions[i])):\n",
    "        encoder_predictions[i][j] += np.random.uniform(low=-noise, high=noise)\n",
    "show_latents_and_predictions(encoder_predictions, 'NB2-MLP-AE5-prediction-latent-values-with-noise-1')"
   ]
  },
  {
   "cell_type": "code",
   "execution_count": null,
   "metadata": {
    "collapsed": true
   },
   "outputs": [],
   "source": []
  }
 ],
 "metadata": {
  "kernelspec": {
   "display_name": "Python 3",
   "language": "python",
   "name": "python3"
  },
  "language_info": {
   "codemirror_mode": {
    "name": "ipython",
    "version": 3
   },
   "file_extension": ".py",
   "mimetype": "text/x-python",
   "name": "python",
   "nbconvert_exporter": "python",
   "pygments_lexer": "ipython3",
   "version": "3.6.8"
  }
 },
 "nbformat": 4,
 "nbformat_minor": 1
}
