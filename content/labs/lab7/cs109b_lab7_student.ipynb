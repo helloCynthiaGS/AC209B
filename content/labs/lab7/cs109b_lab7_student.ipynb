{
 "cells": [
  {
   "cell_type": "markdown",
   "metadata": {
    "collapsed": true
   },
   "source": [
    "# <img style=\"float: left; padding-right: 10px; width: 45px\" src=\"https://raw.githubusercontent.com/Harvard-IACS/2018-CS109A/master/content/styles/iacs.png\"> CS109B Data Science 2: Advanced Topics in Data Science \n",
    "## Lab 7 - Clustering\n",
    "\n",
    "\n",
    "\n",
    "**Harvard University**<br/>\n",
    "**Spring 2019**<br/>\n",
    "**Instructors**: Mark Glickman and Pavlos Protopapas \n",
    "\n",
    "\n",
    "<hr style=\"height:2pt\">"
   ]
  },
  {
   "cell_type": "code",
   "execution_count": 1,
   "metadata": {},
   "outputs": [
    {
     "data": {
      "text/html": [
       "<style>\n",
       "blockquote { background: #AEDE94; }\n",
       "h1 { \n",
       "    padding-top: 25px;\n",
       "    padding-bottom: 25px;\n",
       "    text-align: left; \n",
       "    padding-left: 10px;\n",
       "    background-color: #DDDDDD; \n",
       "    color: black;\n",
       "}\n",
       "h2 { \n",
       "    padding-top: 10px;\n",
       "    padding-bottom: 10px;\n",
       "    text-align: left; \n",
       "    padding-left: 5px;\n",
       "    background-color: #EEEEEE; \n",
       "    color: black;\n",
       "}\n",
       "\n",
       "div.exercise {\n",
       "\tbackground-color: #ffcccc;\n",
       "\tborder-color: #E9967A; \t\n",
       "\tborder-left: 5px solid #800080; \n",
       "\tpadding: 0.5em;\n",
       "}\n",
       "div.discussion {\n",
       "\tbackground-color: #ccffcc;\n",
       "\tborder-color: #88E97A;\n",
       "\tborder-left: 5px solid #0A8000; \n",
       "\tpadding: 0.5em;\n",
       "}\n",
       "div.theme {\n",
       "\tbackground-color: #DDDDDD;\n",
       "\tborder-color: #E9967A; \t\n",
       "\tborder-left: 5px solid #800080; \n",
       "\tpadding: 0.5em;\n",
       "\tfont-size: 18pt;\n",
       "}\n",
       "div.gc { \n",
       "\tbackground-color: #AEDE94;\n",
       "\tborder-color: #E9967A; \t \n",
       "\tborder-left: 5px solid #800080; \n",
       "\tpadding: 0.5em;\n",
       "\tfont-size: 12pt;\n",
       "}\n",
       "p.q1 { \n",
       "    padding-top: 5px;\n",
       "    padding-bottom: 5px;\n",
       "    text-align: left; \n",
       "    padding-left: 5px;\n",
       "    background-color: #EEEEEE; \n",
       "    color: black;\n",
       "}\n",
       "header {\n",
       "   padding-top: 35px;\n",
       "    padding-bottom: 35px;\n",
       "    text-align: left; \n",
       "    padding-left: 10px;\n",
       "    background-color: #DDDDDD; \n",
       "    color: black;\n",
       "}\n",
       "</style>\n",
       "\n"
      ],
      "text/plain": [
       "<IPython.core.display.HTML object>"
      ]
     },
     "execution_count": 1,
     "metadata": {},
     "output_type": "execute_result"
    }
   ],
   "source": [
    "## RUN THIS CELL TO PROPERLY HIGHLIGHT THE EXERCISES\n",
    "import requests\n",
    "from IPython.core.display import HTML\n",
    "styles = requests.get(\"https://raw.githubusercontent.com/Harvard-IACS/2019-CS109B/master/content/styles/cs109.css\").text\n",
    "HTML(styles)"
   ]
  },
  {
   "cell_type": "code",
   "execution_count": 2,
   "metadata": {},
   "outputs": [],
   "source": [
    "import numpy as np\n",
    "import pandas as pd\n",
    "import matplotlib.pyplot as plt\n",
    "\n",
    "from sklearn.decomposition import PCA\n",
    "from sklearn.preprocessing import StandardScaler\n",
    "\n",
    "%matplotlib inline "
   ]
  },
  {
   "cell_type": "code",
   "execution_count": 3,
   "metadata": {},
   "outputs": [],
   "source": [
    "import rpy2\n",
    "\n",
    "# import os\n",
    "# os.environ['R_HOME'] = \"/usr/share/anaconda3/lib/R\"\n",
    "\n",
    "from rpy2.robjects.packages import importr\n",
    "r_utils = importr('utils')"
   ]
  },
  {
   "cell_type": "code",
   "execution_count": 4,
   "metadata": {},
   "outputs": [],
   "source": [
    "#If there are errors about missing R packages, run the relevant code below:\n",
    "#r_utils.install_packages('aplpack')\n",
    "# r_utils.install_packages('TeachingDemos')\n",
    "# r_utils.install_packages('ggplot2')\n",
    "# r_utils.install_packages('cluster')\n",
    "# r_utils.install_packages('factoextra')\n",
    "# r_utils.install_packages('dbscan')\n",
    "#\n",
    "# #If you need to install ggplot2 version 2.2.1, then run the following code:\n",
    "# r_utils.install_packages(\"devtools\")\n",
    "# r_remotes = importr(\"remotes\")\n",
    "# r_remotes.install_version(\"ggplot2\",version=\"2.2.1\")"
   ]
  },
  {
   "cell_type": "markdown",
   "metadata": {},
   "source": [
    "## Import and plot the data\n",
    "\n",
    "We begin, as always, by importing and exploring the data. Here, we're exploring the crazy cluster data from the end of yesterday's lecture. As you know, by the end we'll have an essentially automated method for extracting the pattern in these data.\n",
    "\n",
    "#### Python"
   ]
  },
  {
   "cell_type": "code",
   "execution_count": null,
   "metadata": {},
   "outputs": [
    {
     "data": {
      "text/html": [
       "<div>\n",
       "<style scoped>\n",
       "    .dataframe tbody tr th:only-of-type {\n",
       "        vertical-align: middle;\n",
       "    }\n",
       "\n",
       "    .dataframe tbody tr th {\n",
       "        vertical-align: top;\n",
       "    }\n",
       "\n",
       "    .dataframe thead th {\n",
       "        text-align: right;\n",
       "    }\n",
       "</style>\n",
       "<table border=\"1\" class=\"dataframe\">\n",
       "  <thead>\n",
       "    <tr style=\"text-align: right;\">\n",
       "      <th></th>\n",
       "      <th>x</th>\n",
       "      <th>y</th>\n",
       "    </tr>\n",
       "  </thead>\n",
       "  <tbody>\n",
       "    <tr>\n",
       "      <th>count</th>\n",
       "      <td>1100.000000</td>\n",
       "      <td>1100.000000</td>\n",
       "    </tr>\n",
       "    <tr>\n",
       "      <th>mean</th>\n",
       "      <td>-0.081222</td>\n",
       "      <td>-0.625431</td>\n",
       "    </tr>\n",
       "    <tr>\n",
       "      <th>std</th>\n",
       "      <td>0.644967</td>\n",
       "      <td>1.176170</td>\n",
       "    </tr>\n",
       "    <tr>\n",
       "      <th>min</th>\n",
       "      <td>-1.489180</td>\n",
       "      <td>-3.353462</td>\n",
       "    </tr>\n",
       "    <tr>\n",
       "      <th>25%</th>\n",
       "      <td>-0.478839</td>\n",
       "      <td>-1.126752</td>\n",
       "    </tr>\n",
       "    <tr>\n",
       "      <th>50%</th>\n",
       "      <td>-0.132920</td>\n",
       "      <td>-0.297040</td>\n",
       "    </tr>\n",
       "    <tr>\n",
       "      <th>75%</th>\n",
       "      <td>0.366072</td>\n",
       "      <td>0.250817</td>\n",
       "    </tr>\n",
       "    <tr>\n",
       "      <th>max</th>\n",
       "      <td>1.492208</td>\n",
       "      <td>1.253874</td>\n",
       "    </tr>\n",
       "  </tbody>\n",
       "</table>\n",
       "</div>"
      ],
      "text/plain": [
       "                 x            y\n",
       "count  1100.000000  1100.000000\n",
       "mean     -0.081222    -0.625431\n",
       "std       0.644967     1.176170\n",
       "min      -1.489180    -3.353462\n",
       "25%      -0.478839    -1.126752\n",
       "50%      -0.132920    -0.297040\n",
       "75%       0.366072     0.250817\n",
       "max       1.492208     1.253874"
      ]
     },
     "execution_count": 5,
     "metadata": {},
     "output_type": "execute_result"
    }
   ],
   "source": [
    "multishapes = pd.read_csv(\"data/multishapes.csv\")\n",
    "scaled_df = multishapes[['x','y']]\n",
    "scaled_df.describe()"
   ]
  },
  {
   "cell_type": "code",
   "execution_count": null,
   "metadata": {},
   "outputs": [
    {
     "data": {
      "image/png": "[encoded data removed]",
      "text/plain": [
       "<Figure size 792x612 with 1 Axes>"
      ]
     },
     "metadata": {
      "needs_background": "light"
     },
     "output_type": "display_data"
    }
   ],
   "source": [
    "scaled_df.plot.scatter(x='x',y='y',c='Black',title=\"Multishapes data\",figsize=(11,8.5));"
   ]
  },
  {
   "cell_type": "markdown",
   "metadata": {},
   "source": [
    "#### R\n",
    "We'll work in parallel in R, as some later function work better in that language."
   ]
  },
  {
   "cell_type": "code",
   "execution_count": null,
   "metadata": {},
   "outputs": [],
   "source": [
    "from rpy2.robjects import pandas2ri\n",
    "pandas2ri.activate()\n",
    "\n",
    "r_scaled_df = pandas2ri.py2ri(scaled_df)"
   ]
  },
  {
   "cell_type": "markdown",
   "metadata": {},
   "source": [
    "There is an 'automatic' function in rpy2 to convert a pnadas data frame into an R object. However, this function isn't included in the package's documentation, so use it at your own risk.\n",
    "\n",
    "The old style of building data frames will always work."
   ]
  },
  {
   "cell_type": "code",
   "execution_count": null,
   "metadata": {},
   "outputs": [
    {
     "data": {
      "text/html": [
       "\n",
       "    <span>R/rpy2 DataFrame (1100 x 2)</span>\n",
       "    <table>\n",
       "      <thead>\n",
       "        <tr>\n",
       "        \n",
       "          <th>x</th>\n",
       "        \n",
       "          <th>y</th>\n",
       "        \n",
       "        </tr>\n",
       "      </thead>\n",
       "      <tbody>\n",
       "      \n",
       "      <tr>\n",
       "      \n",
       "      <td>\n",
       "        -0.803739\n",
       "      </td>\n",
       "      \n",
       "      <td>\n",
       "        -0.853053\n",
       "      </td>\n",
       "      \n",
       "      </tr>\n",
       "      \n",
       "      <tr>\n",
       "      \n",
       "      <td>\n",
       "        0.852851\n",
       "      </td>\n",
       "      \n",
       "      <td>\n",
       "        0.367618\n",
       "      </td>\n",
       "      \n",
       "      </tr>\n",
       "      \n",
       "      <tr>\n",
       "      \n",
       "      <td>\n",
       "        0.927180\n",
       "      </td>\n",
       "      \n",
       "      <td>\n",
       "        -0.274902\n",
       "      </td>\n",
       "      \n",
       "      </tr>\n",
       "      \n",
       "      <tr>\n",
       "      \n",
       "      <td>\n",
       "        -0.752626\n",
       "      </td>\n",
       "      \n",
       "      <td>\n",
       "        -0.511565\n",
       "      </td>\n",
       "      \n",
       "      </tr>\n",
       "      \n",
       "      <tr>\n",
       "      \n",
       "      <td>\n",
       "        ...\n",
       "      </td>\n",
       "      \n",
       "      <td>\n",
       "        ...\n",
       "      </td>\n",
       "      \n",
       "      </tr>\n",
       "      \n",
       "      <tr>\n",
       "      \n",
       "      <td>\n",
       "        0.930758\n",
       "      </td>\n",
       "      \n",
       "      <td>\n",
       "        -2.366531\n",
       "      </td>\n",
       "      \n",
       "      </tr>\n",
       "      \n",
       "      <tr>\n",
       "      \n",
       "      <td>\n",
       "        0.989555\n",
       "      </td>\n",
       "      \n",
       "      <td>\n",
       "        -2.475225\n",
       "      </td>\n",
       "      \n",
       "      </tr>\n",
       "      \n",
       "      <tr>\n",
       "      \n",
       "      <td>\n",
       "        0.979200\n",
       "      </td>\n",
       "      \n",
       "      <td>\n",
       "        -2.637578\n",
       "      </td>\n",
       "      \n",
       "      </tr>\n",
       "      \n",
       "      <tr>\n",
       "      \n",
       "      <td>\n",
       "        1.121931\n",
       "      </td>\n",
       "      \n",
       "      <td>\n",
       "        -2.619054\n",
       "      </td>\n",
       "      \n",
       "      </tr>\n",
       "      \n",
       "      </tbody>\n",
       "    </table>\n",
       "    "
      ],
      "text/plain": [
       "R object with classes: ('data.frame',) mapped to:\n",
       "<DataFrame - Python:0x1a32bf8ac8 / R:0x7fe7b3f19a88>\n",
       "[FloatVector, FloatVector]\n",
       "  x: <class 'rpy2.robjects.vectors.FloatVector'>\n",
       "  R object with classes: ('numeric',) mapped to:\n",
       "<FloatVector - Python:0x1a32bfb208 / R:0x7fe7bba8fc00>\n",
       "[-0.803739, 0.852851, 0.927180, -0.752626, ..., 0.930758, 0.989555, 0.979200, 1.121931]\n",
       "  y: <class 'rpy2.robjects.vectors.FloatVector'>\n",
       "  R object with classes: ('numeric',) mapped to:\n",
       "<FloatVector - Python:0x1a32bfb348 / R:0x7fe7b3febc00>\n",
       "[-0.853053, 0.367618, -0.274902, -0.511565, ..., -2.366531, -2.475225, -2.637578, -2.619054]"
      ]
     },
     "execution_count": 8,
     "metadata": {},
     "output_type": "execute_result"
    }
   ],
   "source": [
    "r_scaled_df = rpy2.robjects.DataFrame({\"x\": rpy2.robjects.FloatVector(scaled_df['x']), \n",
    "                                  \"y\": rpy2.robjects.FloatVector(scaled_df['y'])\n",
    "                                 })\n",
    "r_scaled_df"
   ]
  },
  {
   "cell_type": "markdown",
   "metadata": {},
   "source": [
    "<div class=\"discussion\"><b>Discussion</b></div>\n",
    "\n",
    "- Above, we named a data frame 'scaled', but didn't actually scale it! When we're clustering should we scale or not?"
   ]
  },
  {
   "cell_type": "markdown",
   "metadata": {},
   "source": [
    "## Kmeans\n",
    "\n",
    "We kick things off with the old workhorse of clustering: KMeans. The \"who cares, it runs\" code is below, but first a small conceptual digression on how/why Kmeans does[n't] work: http://web.stanford.edu/class/ee103/visualizations/kmeans/kmeans.html\n",
    "\n",
    "Lessons:\n",
    " - Initializations matter; run multiple times\n",
    " - Total Squared dsitance should never get worse during an update\n",
    " - KMeans can struggle with clusters that are close together; they can get lumped into one\n",
    " - There's no notion of 'not part of any cluster' or 'part of two clusters'\n",
    "\n",
    "#### Python"
   ]
  },
  {
   "cell_type": "code",
   "execution_count": null,
   "metadata": {},
   "outputs": [
    {
     "data": {
      "text/plain": [
       "array([[-0.35981394, -0.49384068],\n",
       "       [-0.71581926, -2.48493748],\n",
       "       [ 0.97688793, -2.38945886],\n",
       "       [-0.28306103,  0.5234012 ],\n",
       "       [ 0.58969517, -0.07953374]])"
      ]
     },
     "metadata": {},
     "output_type": "display_data"
    },
    {
     "data": {
      "text/plain": [
       "array([0, 4, 4, 0, 4, 4, 3, 0, 0, 0], dtype=int32)"
      ]
     },
     "metadata": {},
     "output_type": "display_data"
    }
   ],
   "source": [
    "from sklearn.cluster import KMeans\n",
    "\n",
    "fitted_km = KMeans(n_clusters=5, init='random', n_init=5, random_state=109).fit(scaled_df)\n",
    "\n",
    "display(fitted_km.cluster_centers_)\n",
    "display(fitted_km.labels_[0:10])"
   ]
  },
  {
   "cell_type": "markdown",
   "metadata": {},
   "source": [
    "Above, we see two useful components of the kmeans fit: the coordinates of the 5 cluster centers, and the clusters assigned to (the first few) points of data "
   ]
  },
  {
   "cell_type": "markdown",
   "metadata": {},
   "source": [
    "#### R"
   ]
  },
  {
   "cell_type": "markdown",
   "metadata": {},
   "source": [
    "In R, Kmeans is part of the 'stats' library, so we first `importr` 'stats', then call the `.kmeans` function within that grouping. As always, we refer to R's documentation to figure out the name of the function and its arguments. [Link to the documentation](https://www.rdocumentation.org/packages/stats/versions/3.5.2/topics/kmeans)\n",
    "\n",
    "We also set R's random number generator, which allows us to get exatcly reproducible results."
   ]
  },
  {
   "cell_type": "code",
   "execution_count": null,
   "metadata": {},
   "outputs": [],
   "source": [
    "r_base = importr('base')\n",
    "r_base.set_seed(109) #set seed for random number generation\n",
    "\n",
    "r_stats = importr('stats')\n",
    "r_km_out = r_stats.kmeans(scaled_df, 5, nstart=5)\n",
    "\n",
    "display(r_km_out)\n",
    "display(list(r_km_out.names))\n",
    "display(r_km_out.rx2(\"size\"))"
   ]
  },
  {
   "cell_type": "markdown",
   "metadata": {},
   "source": [
    "Recall that R functions typically return something between a named list and a dictionary. You can display it directly, and access particular segments via `.rx2()`"
   ]
  },
  {
   "cell_type": "markdown",
   "metadata": {},
   "source": [
    "## Plotting\n",
    "\n",
    "#### Python\n",
    "As of 2019, python doesn't have many specialized plotting methods, you mostly have to do it yourself. Take note of matplotlib's `c=` argument to color items in a plot, and stacking two different plotting functions in the same cell."
   ]
  },
  {
   "cell_type": "code",
   "execution_count": null,
   "metadata": {
    "scrolled": true
   },
   "outputs": [],
   "source": [
    "plt.scatter(scaled_df['x'],scaled_df['y'], c=fitted_km.labels_);\n",
    "plt.scatter(fitted_km.cluster_centers_[:,0],fitted_km.cluster_centers_[:,1], c='r', marker='h', s=100); "
   ]
  },
  {
   "cell_type": "markdown",
   "metadata": {},
   "source": [
    "#### R\n",
    "As before, R is loaded with custom plotting. We're upgrading how we call R for plotting-- once you `%load_ext rpy2.ipython` (once per notebook, like `%matplotlib inline`) use %R to run a single line of R code, or %%R to run a whole cell of R code. Transfer R objects from python to r by adding `-i` and the object name on the %%R line.\n",
    "\n",
    "Summary:\n",
    " - `%load_ext rpy2.ipython` once\n",
    " - `%%R` when you want to run multiple lines of R code\n",
    "     - Won't send outputs back into python\n",
    "     - Will display plots in the notebook\n",
    " - Move robject variables to R via `-i`"
   ]
  },
  {
   "cell_type": "code",
   "execution_count": null,
   "metadata": {},
   "outputs": [],
   "source": [
    "%load_ext rpy2.ipython"
   ]
  },
  {
   "cell_type": "code",
   "execution_count": null,
   "metadata": {},
   "outputs": [],
   "source": [
    "%%R -i r_km_out -i r_scaled_df\n",
    "library(factoextra)\n",
    "fviz_cluster(r_km_out, r_scaled_df, geom = \"point\")"
   ]
  },
  {
   "cell_type": "markdown",
   "metadata": {},
   "source": [
    "## Selecting size: Elbow\n",
    "This method measures the total (squared) distance from points to their cluster's centroid. Within a given cluster, this is *equivalent*, up to a factor of $2n$, to the summed (squared) distance from each point to the other points in the cluster (the phrasing we use in laer methods). Look for the place(s) where distance stops decreasing as much.\n",
    "\n",
    "#### Python"
   ]
  },
  {
   "cell_type": "code",
   "execution_count": null,
   "metadata": {},
   "outputs": [],
   "source": [
    "wss = []\n",
    "for i in range(1,11):\n",
    "    fitx = KMeans(n_clusters=i, init='random', n_init=5, random_state=109).fit(scaled_df)\n",
    "    wss.append(fitx.inertia_)\n",
    "\n",
    "plt.figure(figsize=(11,8.5))\n",
    "plt.plot(range(1,11), wss, 'bx-')\n",
    "plt.xlabel('Number of clusters $k$')\n",
    "plt.ylabel('Inertia')\n",
    "plt.title('The Elbow Method showing the optimal $k$')\n",
    "plt.show()"
   ]
  },
  {
   "cell_type": "markdown",
   "metadata": {},
   "source": [
    "#### R\n",
    "Nearly all of our plots in R today come from the handy library `factoextra` (and nearly all of our plots will be from the `fviz_clust` function). Becuase we ran `library(factoextra)` in R earlier, the library is still loaded and we can invoke fviz_clust directly. Also, the `-i` is optional: R remembers what r_scaled_df is from before, but it can be wise to always send over the latest version.\n",
    "\n",
    "Summary:\n",
    " - R remembers things you've loaded, saved, or passed it before, just like variables persist across cells in jupyter\n",
    " - `library(factoextra)` and then `fviz_nbclust` is your main plotting tool\n",
    " - Remember to set `nstart=` above its default of 1 whenever you use Kmeans in R\n",
    " - Documentation [here](https://www.rdocumentation.org/packages/factoextra/versions/1.0.5/topics/fviz_nbclust)"
   ]
  },
  {
   "cell_type": "code",
   "execution_count": null,
   "metadata": {},
   "outputs": [],
   "source": [
    "%%R -i r_scaled_df\n",
    "fviz_nbclust(r_scaled_df, kmeans, method=\"wss\", nstart = 5)"
   ]
  },
  {
   "cell_type": "markdown",
   "metadata": {},
   "source": [
    "## Selecting size: Silhouette\n",
    "Silhouette scores measure how close an observation is (on average) to points in its cluster, compared to the next-closest cluster's points. The range is [-1,1]; 0 indicates a point on the decision boundary (equal average closeness to points in both clusters), and negative values mean that datum might be better in a different cluster.\n",
    "\n",
    "The silhouette score plotted below is the average of the above score across all points.\n",
    "\n",
    "#### Python\n",
    "The silhouette score is a metric available in sklearn. We have to manually loop over values of K, calculate, and plot."
   ]
  },
  {
   "cell_type": "code",
   "execution_count": null,
   "metadata": {},
   "outputs": [],
   "source": [
    "from sklearn.metrics import silhouette_score\n",
    "\n",
    "scores = [0]\n",
    "for i in range(2,11):\n",
    "    fitx = KMeans(n_clusters=i, init='random', n_init=5, random_state=109).fit(scaled_df)\n",
    "    score = silhouette_score(scaled_df, fitx.labels_)\n",
    "    scores.append(score)\n",
    "    \n",
    "plt.figure(figsize=(11,8.5))\n",
    "plt.plot(range(1,11), np.array(scores), 'bx-')\n",
    "plt.xlabel('Number of clusters $k$')\n",
    "plt.ylabel('Average Silhouette')\n",
    "plt.title('The Elbow Method showing the optimal $k$')\n",
    "plt.show()"
   ]
  },
  {
   "cell_type": "markdown",
   "metadata": {},
   "source": [
    "#### R\n",
    "Again, `fviz_clust` will do the work, we just need to pass it a different `method=`."
   ]
  },
  {
   "cell_type": "code",
   "execution_count": null,
   "metadata": {},
   "outputs": [],
   "source": [
    "%%R -i r_scaled_df\n",
    "fviz_nbclust(r_scaled_df, kmeans, method=\"silhouette\", nstart = 5)"
   ]
  },
  {
   "cell_type": "markdown",
   "metadata": {},
   "source": [
    "## Selecting size: Gap Statistic\n",
    "The gap statistic compares within-cluster distances (like in silhouette), but instead of comparing against the second-best existing cluster for that point, it compares our clustering's overall average to average we'd see when data don't have clusters at all.\n",
    "\n",
    "In essence, the within-cluster distances (in the elbow plot) will go down just becuse we have more clusters. We additionally calculate how much they'd go down on non-clustered data with the same spread as our data and subtract that trend out to produce the plot below.\n",
    "\n",
    "#### Python\n",
    "Again, we'd have to code it up ourselves. Though there are some implementations online, they're not ready for immediate use."
   ]
  },
  {
   "cell_type": "code",
   "execution_count": null,
   "metadata": {},
   "outputs": [],
   "source": [
    "# you'd have to implement it yourself"
   ]
  },
  {
   "cell_type": "markdown",
   "metadata": {},
   "source": [
    "#### R\n",
    "And again, `fviz_clust` will do the work, we just need to pass it a different `method=`."
   ]
  },
  {
   "cell_type": "code",
   "execution_count": null,
   "metadata": {},
   "outputs": [],
   "source": [
    "%%R -i r_scaled_df\n",
    "fviz_nbclust(r_scaled_df, kmeans, method=\"gap\", nstart = 5)"
   ]
  },
  {
   "cell_type": "markdown",
   "metadata": {},
   "source": [
    "<div class=\"exercise\"><b>Exercise 1</b></div>\n",
    "\n",
    "- Determine the optimal number of clusters\n",
    "- Re-fit a KNN model with that number of clusters"
   ]
  },
  {
   "cell_type": "code",
   "execution_count": null,
   "metadata": {},
   "outputs": [],
   "source": [
    "#your code here."
   ]
  },
  {
   "cell_type": "markdown",
   "metadata": {},
   "source": [
    "## Asessing Fit: Silhouette\n",
    "\n",
    "#### Python\n",
    "Below, we borrow from an SKlearn example. The second plot may be overkill.\n",
    " - The second plot is JUST the first two dimensions in the data. It is *not* a PCA plot\n",
    " - If you only need the raw silhouette scores, use the `silhouette_samples` function"
   ]
  },
  {
   "cell_type": "code",
   "execution_count": null,
   "metadata": {},
   "outputs": [],
   "source": [
    "from sklearn.metrics import silhouette_samples, silhouette_score\n",
    "import matplotlib.cm as cm\n",
    "#modified code from http://scikit-learn.org/stable/auto_examples/cluster/plot_kmeans_silhouette_analysis.html\n",
    "\n",
    "def silplot(X, clusterer, pointlabels=None):\n",
    "    cluster_labels = clusterer.labels_\n",
    "    n_clusters = clusterer.n_clusters\n",
    "    \n",
    "    # Create a subplot with 1 row and 2 columns\n",
    "    fig, (ax1, ax2) = plt.subplots(1, 2)\n",
    "    fig.set_size_inches(11,8.5)\n",
    "\n",
    "    # The 1st subplot is the silhouette plot\n",
    "    # The silhouette coefficient can range from -1, 1 but in this example all\n",
    "    # lie within [-0.1, 1]\n",
    "    ax1.set_xlim([-0.1, 1])\n",
    "    \n",
    "    # The (n_clusters+1)*10 is for inserting blank space between silhouette\n",
    "    # plots of individual clusters, to demarcate them clearly.\n",
    "    ax1.set_ylim([0, len(X) + (n_clusters + 1) * 10])\n",
    "\n",
    "    # The silhouette_score gives the average value for all the samples.\n",
    "    # This gives a perspective into the density and separation of the formed\n",
    "    # clusters\n",
    "    silhouette_avg = silhouette_score(X, cluster_labels)\n",
    "    print(\"For n_clusters = \", n_clusters,\n",
    "          \", the average silhouette_score is \", silhouette_avg,\".\",sep=\"\")\n",
    "\n",
    "    # Compute the silhouette scores for each sample\n",
    "    sample_silhouette_values = silhouette_samples(X, cluster_labels)\n",
    "\n",
    "    y_lower = 10\n",
    "    for i in range(0,n_clusters+1):\n",
    "        # Aggregate the silhouette scores for samples belonging to\n",
    "        # cluster i, and sort them\n",
    "        ith_cluster_silhouette_values = \\\n",
    "            sample_silhouette_values[cluster_labels == i]\n",
    "\n",
    "        ith_cluster_silhouette_values.sort()\n",
    "\n",
    "        size_cluster_i = ith_cluster_silhouette_values.shape[0]\n",
    "        y_upper = y_lower + size_cluster_i\n",
    "\n",
    "        color = cm.nipy_spectral(float(i) / n_clusters)\n",
    "        ax1.fill_betweenx(np.arange(y_lower, y_upper),\n",
    "                          0, ith_cluster_silhouette_values,\n",
    "                          facecolor=color, edgecolor=color, alpha=0.7)\n",
    "\n",
    "        # Label the silhouette plots with their cluster numbers at the middle\n",
    "        ax1.text(-0.05, y_lower + 0.5 * size_cluster_i, str(i))\n",
    "\n",
    "        # Compute the new y_lower for next plot\n",
    "        y_lower = y_upper + 10  # 10 for the 0 samples\n",
    "\n",
    "    ax1.set_title(\"The silhouette plot for the various clusters.\")\n",
    "    ax1.set_xlabel(\"The silhouette coefficient values\")\n",
    "    ax1.set_ylabel(\"Cluster label\")\n",
    "\n",
    "    # The vertical line for average silhouette score of all the values\n",
    "    ax1.axvline(x=silhouette_avg, color=\"red\", linestyle=\"--\")\n",
    "\n",
    "    ax1.set_yticks([])  # Clear the yaxis labels / ticks\n",
    "    ax1.set_xticks([-0.1, 0, 0.2, 0.4, 0.6, 0.8, 1])\n",
    "\n",
    "    # 2nd Plot showing the actual clusters formed\n",
    "    colors = cm.nipy_spectral(cluster_labels.astype(float) / n_clusters)\n",
    "    ax2.scatter(X[:, 0], X[:, 1], marker='.', s=200, lw=0, alpha=0.7,\n",
    "                c=colors, edgecolor='k')\n",
    "    xs = X[:, 0]\n",
    "    ys = X[:, 1]\n",
    "    \n",
    "    if pointlabels is not None:\n",
    "        for i in range(len(xs)):\n",
    "            plt.text(xs[i],ys[i],pointlabels[i])\n",
    "\n",
    "    # Labeling the clusters\n",
    "    centers = clusterer.cluster_centers_\n",
    "    # Draw white circles at cluster centers\n",
    "    ax2.scatter(centers[:, 0], centers[:, 1], marker='o',\n",
    "                c=\"white\", alpha=1, s=200, edgecolor='k')\n",
    "\n",
    "    for i, c in enumerate(centers):\n",
    "        ax2.scatter(c[0], c[1], marker='$%d$' % int(i), alpha=1,\n",
    "                    s=50, edgecolor='k')\n",
    "\n",
    "    ax2.set_title(\"The visualization of the clustered data.\")\n",
    "    ax2.set_xlabel(\"Feature space for the 1st feature\")\n",
    "    ax2.set_ylabel(\"Feature space for the 2nd feature\")\n",
    "\n",
    "    plt.suptitle((\"Silhouette analysis for KMeans clustering on sample data \"\n",
    "                  \"with n_clusters = %d\" % n_clusters),\n",
    "                 fontsize=14, fontweight='bold')"
   ]
  },
  {
   "cell_type": "code",
   "execution_count": null,
   "metadata": {},
   "outputs": [],
   "source": [
    "silplot(scaled_df.values, fitted_km)"
   ]
  },
  {
   "cell_type": "markdown",
   "metadata": {},
   "source": [
    "#### R\n",
    "To get the plot in R, we need to jump through a few hoops\n",
    " - import the `cluster` library (once)\n",
    " - call the `silhouette` function on cluster assignments and the inter-point distances\n",
    " - call `fviz_silhouette` on the result\n",
    " \n",
    "Luckily, we can run multiple lines of R at a time"
   ]
  },
  {
   "cell_type": "code",
   "execution_count": null,
   "metadata": {
    "scrolled": false
   },
   "outputs": [],
   "source": [
    "%%R -i r_km_out -i r_scaled_df\n",
    "library(cluster)\n",
    "sil = silhouette(r_km_out$cluster, dist(r_scaled_df))\n",
    "fviz_silhouette(sil)"
   ]
  },
  {
   "cell_type": "markdown",
   "metadata": {},
   "source": [
    "<div class=\"exercise\"><b>Exercise 2</b></div>\n",
    " \n",
    " - Display the silhouette plots for your own model\n",
    "\n",
    "<div class=\"discussion\"><b>Discussion</b></div>\n",
    "\n",
    "- How do we know which of two silhouette plots is better?"
   ]
  },
  {
   "cell_type": "code",
   "execution_count": null,
   "metadata": {},
   "outputs": [],
   "source": [
    "#your code here"
   ]
  },
  {
   "cell_type": "markdown",
   "metadata": {},
   "source": [
    "## Algomerative\n",
    "Aglomerative clustering merges clusters together from the bottom up. There are many possible rules about which cluster(s) to combine next. Ward's rule wants to have the lowest possible total within-cluster distance, so it merges the two clusters that will harm this objective least.\n",
    "\n",
    "#### Python\n",
    "Scipy has Ward's method implemented, though the call sequence is a little convoluted, and the code is slow."
   ]
  },
  {
   "cell_type": "code",
   "execution_count": null,
   "metadata": {},
   "outputs": [],
   "source": [
    "import scipy.cluster.hierarchy as hac\n",
    "from scipy.spatial.distance import pdist\n",
    "\n",
    "plt.figure(figsize=(11,8.5))\n",
    "dist_mat = pdist(scaled_df, metric=\"euclidean\")\n",
    "ward_data = hac.ward(dist_mat)\n",
    "\n",
    "hac.dendrogram(ward_data);"
   ]
  },
  {
   "cell_type": "markdown",
   "metadata": {},
   "source": [
    "#### R\n",
    "R's code runs much faster, and the code is cleaner. Note that hclust is from the `cluster` library and you'd need to import it if you haven't already."
   ]
  },
  {
   "cell_type": "code",
   "execution_count": null,
   "metadata": {},
   "outputs": [],
   "source": [
    "%%R -i r_scaled_df\n",
    "stacked_cluster = hclust(dist(r_scaled_df), method = \"ward.D\")\n",
    "plot(stacked_cluster)"
   ]
  },
  {
   "cell_type": "markdown",
   "metadata": {},
   "source": [
    "<div class=\"discussion\"><b>Discussion</b></div>\n",
    "\n",
    "- How do you read a plot like the above? What are valid options for number of clusters, and how can you tell? Are some more valid than others?"
   ]
  },
  {
   "cell_type": "markdown",
   "metadata": {},
   "source": [
    "## DBscan\n",
    "DBscan is one of many alternative clustering algorithms, that uses an intuitive notion of denseness to define clusters, rather than defining them by a central point as in Kmeans.\n",
    "\n",
    "#### Python\n",
    "DBscan is implemented in good 'ol sklearn, but there aren't great tools for working out the epsilon parameter."
   ]
  },
  {
   "cell_type": "code",
   "execution_count": null,
   "metadata": {},
   "outputs": [],
   "source": [
    "# I couldn't find any easy code for epsilon-tuning plot"
   ]
  },
  {
   "cell_type": "code",
   "execution_count": null,
   "metadata": {},
   "outputs": [],
   "source": [
    "from sklearn.cluster import DBSCAN\n",
    "\n",
    "fitted_dbscan = DBSCAN(eps=0.15).fit(scaled_df)\n",
    "\n",
    "plt.scatter(scaled_df['x'],scaled_df['y'], c=fitted_dbscan.labels_);"
   ]
  },
  {
   "cell_type": "markdown",
   "metadata": {},
   "source": [
    "#### R\n",
    "R's dbscan is in the `dbscan` library. It comes with `kNNdistplot` for tuning epsilon, and `fviz_cluster` will make a nice plot."
   ]
  },
  {
   "cell_type": "code",
   "execution_count": null,
   "metadata": {},
   "outputs": [],
   "source": [
    "%%R -i r_scaled_df\n",
    "library(dbscan)\n",
    "kNNdistplot(r_scaled_df,k=5)"
   ]
  },
  {
   "cell_type": "markdown",
   "metadata": {},
   "source": [
    "Remember, we can import and run functions like dbscan within Python"
   ]
  },
  {
   "cell_type": "code",
   "execution_count": null,
   "metadata": {},
   "outputs": [],
   "source": [
    "r_dbscan = importr(\"dbscan\")\n",
    "\n",
    "r_db_out = r_dbscan.dbscan(r_scaled_df, eps=0.15, minPts = 5)"
   ]
  },
  {
   "cell_type": "markdown",
   "metadata": {},
   "source": [
    "Or run directly in R"
   ]
  },
  {
   "cell_type": "code",
   "execution_count": null,
   "metadata": {
    "scrolled": false
   },
   "outputs": [],
   "source": [
    "%%R -i r_scaled_df\n",
    "\n",
    "r_db_out = dbscan(r_scaled_df, eps=0.15, minPts=5)\n",
    "fviz_cluster(r_db_out, r_scaled_df, ellipse = FALSE, geom = \"point\")"
   ]
  },
  {
   "cell_type": "markdown",
   "metadata": {},
   "source": [
    "<div class=\"exercise\"><b>Exercise 3</b></div>\n",
    "<div class=\"discussion\"><b>Discussion</b></div>\n",
    "\n",
    "- Use cross validation to select the optimal values of N and epsilon"
   ]
  },
  {
   "cell_type": "code",
   "execution_count": null,
   "metadata": {},
   "outputs": [],
   "source": [
    "#your code here?"
   ]
  },
  {
   "cell_type": "markdown",
   "metadata": {},
   "source": [
    "## Streching: The arrest data and guided practice\n",
    "In this section you get to transfer the skills and code we learned above to new data.\n",
    "\n",
    "Because of how much this resembles your individual HW, we'll go over the solutions in lab, but not post them in writing.\n",
    "\n",
    "As always, we start by loading and exploring the data"
   ]
  },
  {
   "cell_type": "code",
   "execution_count": null,
   "metadata": {},
   "outputs": [],
   "source": [
    "arrest_data = pd.read_csv(\"data/USArrests.csv\")\n",
    "arrest_data['A'] = arrest_data['A'].astype('float64')\n",
    "arrest_data['UrbanPop'] = arrest_data['UrbanPop'].astype('float64')\n",
    "arrest_data.head()"
   ]
  },
  {
   "cell_type": "markdown",
   "metadata": {},
   "source": [
    "<div class=\"exercise\"><b>Exercise</b></div>\n",
    " \n",
    " - Scale the data\n",
    " \n",
    " \n",
    "<div class=\"discussion\"><b>Discussion</b></div>\n",
    " \n",
    " - Or don't"
   ]
  },
  {
   "cell_type": "code",
   "execution_count": null,
   "metadata": {},
   "outputs": [],
   "source": [
    "#your code here"
   ]
  },
  {
   "cell_type": "markdown",
   "metadata": {},
   "source": [
    "<div class=\"exercise\"><b>Exercise</b></div>\n",
    "\n",
    " - Convert the pandas dataframe to R"
   ]
  },
  {
   "cell_type": "code",
   "execution_count": null,
   "metadata": {},
   "outputs": [],
   "source": [
    "#your code here"
   ]
  },
  {
   "cell_type": "markdown",
   "metadata": {},
   "source": [
    "<div class=\"exercise\"><b>Exercise</b></div>\n",
    "\n",
    "- How many [KMeans] clusters do the 50 states fall into?\n",
    "- Remember: we've seen three different methods for determining number of clusters"
   ]
  },
  {
   "cell_type": "code",
   "execution_count": null,
   "metadata": {},
   "outputs": [],
   "source": [
    "#your code here"
   ]
  },
  {
   "cell_type": "code",
   "execution_count": null,
   "metadata": {},
   "outputs": [],
   "source": [
    "#your code here"
   ]
  },
  {
   "cell_type": "code",
   "execution_count": null,
   "metadata": {},
   "outputs": [],
   "source": [
    "#your code here"
   ]
  },
  {
   "cell_type": "markdown",
   "metadata": {},
   "source": [
    "<div class=\"exercise\"><b>Exercise</b></div>\n",
    "\n",
    "- Fit a k-means cclustering with the number of clusters you think is best"
   ]
  },
  {
   "cell_type": "code",
   "execution_count": null,
   "metadata": {},
   "outputs": [],
   "source": [
    "#your code here"
   ]
  },
  {
   "cell_type": "markdown",
   "metadata": {},
   "source": [
    "<div class=\"exercise\"><b>Exercise</b></div>\n",
    "\n",
    " - How good is your clustering?"
   ]
  },
  {
   "cell_type": "code",
   "execution_count": null,
   "metadata": {},
   "outputs": [],
   "source": [
    "#your code here"
   ]
  },
  {
   "cell_type": "markdown",
   "metadata": {},
   "source": [
    "<div class=\"exercise\"><b>Exercise</b></div>\n",
    "\n",
    " - Run an aglomerative clustering. \n",
    " - What's the benefit of this method? How many clusters does it suggest?"
   ]
  },
  {
   "cell_type": "code",
   "execution_count": null,
   "metadata": {},
   "outputs": [],
   "source": [
    "#your code here"
   ]
  },
  {
   "cell_type": "markdown",
   "metadata": {},
   "source": [
    "<div class=\"exercise\"><b>Exercise</b></div>\n",
    "\n",
    " - Run dbscan on this data. Remember to tune epsilon.\n",
    " - How well does it perform?"
   ]
  },
  {
   "cell_type": "code",
   "execution_count": null,
   "metadata": {},
   "outputs": [],
   "source": [
    "#your code here"
   ]
  },
  {
   "cell_type": "markdown",
   "metadata": {},
   "source": [
    "<div class=\"discussion\"><b>Discussion</b></div>\n",
    "\n",
    "- How did you synthsize the different suggestions for number of clusters?\n",
    "- What method, and  what clustering seems correct?\n",
    "- Why is clustering useful?"
   ]
  },
  {
   "cell_type": "markdown",
   "metadata": {},
   "source": [
    "## Bonus: A Hint About Why Clustering The States Is Hard"
   ]
  },
  {
   "cell_type": "code",
   "execution_count": null,
   "metadata": {},
   "outputs": [],
   "source": [
    "numeric_cols = ['M','A','UrbanPop','R']\n",
    "pca = PCA()\n",
    "scaled_df = pd.DataFrame(StandardScaler().fit_transform(arrest_data[numeric_cols]),\n",
    "                         columns = arrest_data[numeric_cols].columns,\n",
    "                         index = arrest_data.index) \n",
    "pca_df = pca.fit_transform(scaled_df)"
   ]
  },
  {
   "cell_type": "code",
   "execution_count": null,
   "metadata": {
    "scrolled": false
   },
   "outputs": [],
   "source": [
    "def biplot(scaled_data, fitted_pca, axis_labels, point_labels):\n",
    "    \n",
    "    pca_results = fitted_pca.transform(scaled_data)\n",
    "    pca1_scores = pca_results[:,0]\n",
    "    pca2_scores = pca_results[:,1]\n",
    "    \n",
    "    # plot each point in 2D post-PCA space\n",
    "    plt.scatter(pca1_scores,pca2_scores)\n",
    "    \n",
    "    # label each point\n",
    "    for i in range(len(pca1_scores)):\n",
    "        plt.text(pca1_scores[i],pca2_scores[i], point_labels[i])\n",
    "    \n",
    "    #for each original dimension, plot what an increase of 1 in that dimension means in this space\n",
    "    for i in range(fitted_pca.components_.shape[1]):\n",
    "        raw_dims_delta_on_pca1 = fitted_pca.components_[0,i]\n",
    "        raw_dims_delta_on_pca2 = fitted_pca.components_[1,i]\n",
    "        plt.arrow(0, 0, raw_dims_delta_on_pca1, raw_dims_delta_on_pca2 ,color = 'r',alpha = 1)\n",
    "        plt.text(raw_dims_delta_on_pca1*1.1, raw_dims_delta_on_pca2*1.1, axis_labels[i], color = 'g', ha = 'center', va = 'center')\n",
    "\n",
    "plt.figure(figsize=(11,8.5))\n",
    "plt.xlim(-3.5,3.5)\n",
    "plt.ylim(-3.5,3.5)\n",
    "plt.xlabel(\"PC{}\".format(1))\n",
    "plt.ylabel(\"PC{}\".format(2))\n",
    "plt.grid()\n",
    "biplot(scaled_df, pca, axis_labels=scaled_df.columns, point_labels=arrest_data['State'])"
   ]
  },
  {
   "cell_type": "code",
   "execution_count": null,
   "metadata": {},
   "outputs": [],
   "source": []
  }
 ],
 "metadata": {
  "kernelspec": {
   "display_name": "Python 3",
   "language": "python",
   "name": "python3"
  },
  "language_info": {
   "codemirror_mode": {
    "name": "ipython",
    "version": 3
   },
   "file_extension": ".py",
   "mimetype": "text/x-python",
   "name": "python",
   "nbconvert_exporter": "python",
   "pygments_lexer": "ipython3",
   "version": "3.6.8"
  }
 },
 "nbformat": 4,
 "nbformat_minor": 1
}
